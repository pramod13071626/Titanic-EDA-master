## Question: What are the factors contributing to a persons chance of survival in RMS Titanic?
import numpy as np
import pandas as pd
import matplotlib.pyplot as plt
import seaborn as sns
%matplotlib inline
data=pd.read_csv('train.csv') # Gathering data
# Assessing Data
data.head()
print('Number of rows: ',data.shape[0],'\nNumber of columns: ',data.shape[1])
data.columns
data.info()
data.head()
# Data Cleaning
 From initial look on the dataset and the question in mind, It is sure that columns named PassengerId, Name, Ticket will not contribute to our analysis, thus, we should drop those columns
data.columns
data.drop(columns=['PassengerId','Name','Ticket',],inplace=True)
data.head()
data.info()
 From the above output, we see that Age, Cabin, and Embarked have missing values. So lets deal with them.
data['Age'].describe()
Age columns has a large standard deviation from the mean value. That means it's not possible to simply fill the missing values as the mean value. So we will need a work around, that is we will generate a list of random numbers equal to the length of missing values between (mean-std) and (mean+std)
import random
print('Number of Missing values in Age:',data['Age'].isnull().sum())

mean = data['Age'].mean()
std = data['Age'].std()
lower_limit = round(mean-std,0)
upper_limit = round(mean+std,0)
random_list=[]
for i in range(0,177):
    random_list.append(random.randint(lower_limit,upper_limit))

random_list=np.array(random_list)

age=data['Age'].values

k=0
for i,j in enumerate(age):
    if np.isnan(age[i]):
        age[i]=random_list[k]
        k+=1

data['Age']=age

print('Number of missing values in age: ',data['Age'].isnull().sum())
data.info()
##### Now Age column has been dealt with, moving on to Cabin column.  
print(data['Cabin'].describe())
print('Number of missing values in Cabin column: ',data['Cabin'].isnull().sum())
##### Cabin column has a large number of missing values, and it doesn't seem important for our analysis. So we will just drop it
data.drop(columns=['Cabin'],inplace=True)
data.info()
##### Moving on to Embarked column
print(data['Embarked'].describe())
print('Missing values: ',data['Embarked'].isnull().sum())
##### Embarked column has just 2 missing values, so we will simply fill it up with the most common value, that is 'S'
data['Embarked'].fillna('S',inplace=True)
data.info()
##### Now that our Data has no missing values, we can move on to Exploring the Data.
# Exploring Data
##### For simplicities sake, we will update Pclass column to contain strings for better visualisation.
data['Pclass']=data['Pclass'].astype('object')
data['Pclass'].replace({1:'Upper Class',2:'Middle Class',3:'Lower Class'},inplace=True)
#Adding a new column 's' to store survived status as a string for better visualisations
data['s']=''
data.loc[(data['Survived']==1),'s'] = 'Survived'
data.loc[(data['Survived']==0),'s'] = 'Not Survived'
# Seeing the correlation in the data
print(data.corr())
#### Q) Number of people on the basis of gender, and class onboard the titanic.
print(data.groupby('Sex')['Survived'].count())
print('\n\n',data.groupby('Pclass')['Survived'].count())
#### Q) Total number of people who survived the titanic in train.csv dataset.
print(data.groupby('s').size())
# 0 = Not Survived
# 1 = Surived
sns.countplot(x='Sex',hue='s',data=data)
#### Out of 891 passengers in the train.csv dataset, only 342 survived in which most were females.
print(data.columns)
#### Now, lets try to find out whether class of a person contributed to its likelihood of survival, here class 1 indicates people belonging to upper class of society, class 2 is middle class, and class 3 is lower class.
sns.barplot(x='Pclass',y='Survived',data=data)
plt.title('Class vs Survived')
plt.show()
plt.figure(figsize=(8,3))
plt.subplot(1,2,1)
sns.barplot(x='Pclass',y='Survived',data=data)
plt.title('Class vs Survived')
plt.subplot(1,2,2)
sns.countplot(x='Pclass',hue='s',data=data)
plt.title('Count')
plt.show()
sns.countplot(x='Pclass',hue='s',data=data)
#### By the above graph, we get to know that people belonging to upper class of society survived more than people of middle, and lower classes.  Lets find out the exact number of people who survived on the basis of class
sns.catplot(x='Pclass',y='Survived',hue='Sex',data=data,kind='point')
print(data.groupby(['s','Pclass']).size())
print('\n\n',data.groupby(['Sex','Pclass','s']).size())
#### Thus, from the above data, and the visualisation, we can infer that people belonging to upper class were given more priority during the rescue operation.  
#### 62% of people belonging to upper class survived, whereas only 47% and 24% of people belonging to middle, and lower classes survived the crash.
data.columns
pd.cut(data['Age'],10).tail()
#data['AgeGrp']=0
#data.loc[(data['Age']<=11),'AgeGrp']=0
#data.loc[(data['Age']>11) & (data['Age']<=22),'AgeGrp']=1
#data.loc[(data['Age']>22) & (data['Age']<=34),'AgeGrp']=2
#data.loc[(data['Age']>34) & (data['Age']<=45),'AgeGrp']=3
#data.loc[(data['Age']>45) & (data['Age']<=57),'AgeGrp']=4
#data.loc[(data['Age']>57) & (data['Age']<=68) ,'AgeGrp']=5
#data.loc[(data['Age']>68) ,'AgeGrp']=6
#data['AgeGrp']=0
#data.loc[(data['Age']<=8),'AgeGrp']=0
#data.loc[(data['Age']>8) & (data['Age']<=16),'AgeGrp']=1
#data.loc[(data['Age']>16) & (data['Age']<=24),'AgeGrp']=2
#data.loc[(data['Age']>24) & (data['Age']<=32),'AgeGrp']=3
#data.loc[(data['Age']>32) & (data['Age']<=40),'AgeGrp']=4
#data.loc[(data['Age']>40) & (data['Age']<=48) ,'AgeGrp']=5
#data.loc[(data['Age']>48) & (data['Age']<=56),'AgeGrp']=6
#data.loc[(data['Age']>56) & (data['Age']<=64),'AgeGrp']=7
#data.loc[(data['Age']>64) & (data['Age']<=72),'AgeGrp']=8
#data.loc[(data['Age']>72) & (data['Age']<=80),'AgeGrp']=9
# Probability density function of Age
#plt.figure(figsize=(20,10))
facet=sns.FacetGrid(row='Sex',col='Survived',data=data,aspect=2)
facet.map(sns.distplot,'Age',hist=False)
plt.show()
sns.countplot(x='Sex',hue='Survived',data=data)
#### From the above visualisations, we can infer that Infants, and Females were given more priority in the rescue operation.

#### While Men roughly had a higher chance of survival between age of 18 and 50 years old; women, roughly had a higher chance of survival between age of 15 and 50 years old.

data.corr()
#### Moving on to SibSp and Parch, these two columns signify the number of relatives a person had on titanic, thus it would be better that we make a new column 'Relatives' out of SibSp and Parch.
data['Relatives']=data['SibSp']+data['Parch']
data.corr()
sns.catplot(x='Relatives',y='Survived',data=data,hue='Sex',kind='point',aspect=3)
#### This shows that while there is a higher chance of survival for men between 1 to 3 relatives and lower in the case of having none, or 6 relatives. Women have a higher chance of survival having relaives between 0 to 4
# Conclusion
From the above analysis, we can conclude that a persons likelihood of a chance of survival increases when:  
Sex = Male  
Age = Infants, or between 18 and 50 years old  
Class = Upper or Middle  
Relatives = Between 1 to 3
  
or,  
  
Sex = Female  
Age = Infants, or between 15 and 50 years old  
Class = Any  
Relatives = Between 0 to 4
a=[{'Sex':'Male','Age':'(0,4),(18,50)','Class':'Upper class','Relatives':'1-3'},{'Sex':'Female','Age':'(0,4),(15,50)','Class':'Any class','Relatives':'0-4'}]
df=pd.DataFrame(a)
df[['Sex','Class','Age','Relatives']]
